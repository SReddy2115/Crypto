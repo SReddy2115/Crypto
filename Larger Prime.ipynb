{
 "cells": [
  {
   "cell_type": "code",
   "execution_count": 10,
   "id": "0ecda172",
   "metadata": {},
   "outputs": [
    {
     "name": "stdout",
     "output_type": "stream",
     "text": [
      "10205429249482858623574859893011684879767428370896322845823696928583361125756638287857765521532835769883653692875610497079600183233674741973106144537811436381296301261330042554803388757035269300609144607036293555705247707099687414972154511153287194390121975137755093220590577441029432917803507896782659\n",
      "\n",
      "Number of digits: 301\n",
      "\n",
      "Time to run this Program= 4.308631181716919\n"
     ]
    }
   ],
   "source": [
    "\n",
    "import time\n",
    "start = time.time()\n",
    "from random import randrange, getrandbits\n",
    "num = generate_prime_number()\n",
    "count = 0\n",
    "while num != 0:\n",
    "    num //= 10\n",
    "    count += 1\n",
    "def is_prime(n, k=256):\n",
    "    if n == 2 or n == 3:\n",
    "        return True\n",
    "    if n <= 1 or n % 2 == 0:\n",
    "        return False\n",
    "    s = 0\n",
    "    r = n - 1\n",
    "    while r & 1 == 0:\n",
    "        s += 1\n",
    "        r //= 2\n",
    "    for _ in range(k):\n",
    "        a = randrange(2, n - 1)\n",
    "        x = pow(a, r, n)\n",
    "        if x != 1 and x != n - 1:\n",
    "            j = 1\n",
    "            while j < s and x != n - 1:\n",
    "                x = pow(x, 2, n)\n",
    "                if x == 1:\n",
    "                    return False\n",
    "                j += 1\n",
    "            if x != n - 1:\n",
    "                return False\n",
    "    return True\n",
    "def generate_prime_candidate(length):\n",
    "    p = getrandbits(length)\n",
    "    p |= (1 << length - 1) | 1\n",
    "    return p\n",
    "def generate_prime_number(length=1000):\n",
    "    p = 4\n",
    "    while not is_prime(p, 256):\n",
    "        p = generate_prime_candidate(length)\n",
    "    return p\n",
    "print(generate_prime_number())\n",
    "elapsed = (time.time() - start)\n",
    "print()\n",
    "print(\"Number of digits: \" + str(count))\n",
    "print()\n",
    "print(\"Time to run this Program=\",elapsed)"
   ]
  },
  {
   "cell_type": "code",
   "execution_count": null,
   "id": "52796e24",
   "metadata": {},
   "outputs": [],
   "source": [
    "import math\n",
    "import time\n",
    "a=10205429249482858623574859893011684879767428370896322845823696928583361125756638287857765521532835769883653692875610497079600183233674741973106144537811436381296301261330042554803388757035269300609144607036293555705247707099687414972154511153287194390121975137755093220590577441029432917803507896782659\n",
    "def is_prime(n):\n",
    "    if n <= 1:\n",
    "        return False\n",
    "    if n % 2 == 0:\n",
    "        return n == 2\n",
    " \n",
    "    max_div = math.floor(math.sqrt(n))\n",
    "    for i in range(3, 1 + max_div, 2):\n",
    "        if n % i == 0:\n",
    "            return False\n",
    "    return True\n",
    "t0 = time.time()\n",
    "c = 0\n",
    "for n in range(1,a):\n",
    "    x = is_prime(n)\n",
    "    c += x\n",
    "print(\"Total prime numbers in range :\", c)\n",
    "t1 = time.time()\n",
    "print(\"Time required :\", t1 - t0)"
   ]
  },
  {
   "cell_type": "code",
   "execution_count": null,
   "id": "97dbb803",
   "metadata": {},
   "outputs": [],
   "source": []
  }
 ],
 "metadata": {
  "kernelspec": {
   "display_name": "Python 3 (ipykernel)",
   "language": "python",
   "name": "python3"
  },
  "language_info": {
   "codemirror_mode": {
    "name": "ipython",
    "version": 3
   },
   "file_extension": ".py",
   "mimetype": "text/x-python",
   "name": "python",
   "nbconvert_exporter": "python",
   "pygments_lexer": "ipython3",
   "version": "3.9.13"
  }
 },
 "nbformat": 4,
 "nbformat_minor": 5
}
